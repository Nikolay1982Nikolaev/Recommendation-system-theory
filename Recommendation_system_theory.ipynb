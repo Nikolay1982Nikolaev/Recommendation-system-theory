{
  "nbformat": 4,
  "nbformat_minor": 0,
  "metadata": {
    "colab": {
      "provenance": [],
      "authorship_tag": "ABX9TyPQecz3EVSLBTefh+O8vZUY",
      "include_colab_link": true
    },
    "kernelspec": {
      "name": "python3",
      "display_name": "Python 3"
    },
    "language_info": {
      "name": "python"
    }
  },
  "cells": [
    {
      "cell_type": "markdown",
      "metadata": {
        "id": "view-in-github",
        "colab_type": "text"
      },
      "source": [
        "<a href=\"https://colab.research.google.com/github/Nikolay1982Nikolaev/Recommendation-system-theory/blob/main/Recommendation_system_theory.ipynb\" target=\"_parent\"><img src=\"https://colab.research.google.com/assets/colab-badge.svg\" alt=\"Open In Colab\"/></a>"
      ]
    },
    {
      "cell_type": "code",
      "execution_count": null,
      "metadata": {
        "id": "g-JUU4G6mp4i"
      },
      "outputs": [],
      "source": []
    },
    {
      "cell_type": "markdown",
      "source": [
        "Recommendation system Implementation\n",
        "\n",
        "\n",
        "1. Mean normalization\n"
      ],
      "metadata": {
        "id": "ttM9m2JpmshW"
      }
    },
    {
      "cell_type": "markdown",
      "source": [
        "## Tensorflow Implementation:\n",
        "\n",
        "1. Derivatives in ML\n",
        "\n",
        "Gradient descending algorithm\n",
        "\n"
      ],
      "metadata": {
        "id": "k_zIHqyfmsj6"
      }
    },
    {
      "cell_type": "markdown",
      "source": [
        "## Finding related items"
      ],
      "metadata": {
        "id": "yc1lNhKVmsmX"
      }
    },
    {
      "cell_type": "markdown",
      "source": [
        "# 2. Content Based Filtering\n"
      ],
      "metadata": {
        "id": "-MIDgi5Ymsor"
      }
    },
    {
      "cell_type": "markdown",
      "source": [
        "## 2.1. Collaborative filtering vs COntent based filtering\n",
        "\n",
        "Collaborative filtering\n",
        "\n",
        "\n",
        "Content Based FIltering:\n",
        "\n",
        "\n",
        "Examples o fuser and item features:\n",
        "- User feature:\n",
        "\n",
        "- Movie features:\n"
      ],
      "metadata": {
        "id": "SfKujRvumsrL"
      }
    },
    {
      "cell_type": "markdown",
      "source": [
        "## Deep Learning:\n",
        "\n",
        "Neural network architecture:\n",
        "\n"
      ],
      "metadata": {
        "id": "vYdFrQqPmstH"
      }
    },
    {
      "cell_type": "markdown",
      "source": [
        "## Recommending froma a large categorie\n",
        "\n",
        "Two steps: Retrival and Ranking\n",
        "\n"
      ],
      "metadata": {
        "id": "dhCY8mSHmsvV"
      }
    },
    {
      "cell_type": "markdown",
      "source": [
        "## Ethical use of recommender system:\n",
        "\n",
        "What is the goal of the recommender system?\n",
        "\n",
        "Recommed:\n",
        "- moviest most likely to be rated 5 stars by use\n",
        "- products most likely to be purchased\n",
        "- ads most likely to be clicked on\n",
        "- products generating the largest profit\n",
        "- video leading to maximum.....\n",
        "\n",
        "Ethical considerations with recommender systems:\n",
        "\n"
      ],
      "metadata": {
        "id": "m0Ip-2zlmsxr"
      }
    },
    {
      "cell_type": "markdown",
      "source": [
        "# 3. PCA"
      ],
      "metadata": {
        "id": "54y8IBBgmsz_"
      }
    },
    {
      "cell_type": "markdown",
      "source": [
        "Size: fing one or more new axis and coordinates\n",
        "- use fewer numbers\n",
        "- reduce the num of features\n",
        "\n",
        "From 3D to 2D\n",
        "\n",
        "\n",
        "\n"
      ],
      "metadata": {
        "id": "HE8VUlea1OhW"
      }
    },
    {
      "cell_type": "markdown",
      "source": [],
      "metadata": {
        "id": "4dmVR4o31Oj7"
      }
    },
    {
      "cell_type": "markdown",
      "source": [],
      "metadata": {
        "id": "fAJUgnDG1OmH"
      }
    },
    {
      "cell_type": "code",
      "source": [],
      "metadata": {
        "id": "MxnKo0p90hwT"
      },
      "execution_count": null,
      "outputs": []
    }
  ]
}